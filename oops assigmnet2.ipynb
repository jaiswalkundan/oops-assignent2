{
 "cells": [
  {
   "cell_type": "code",
   "execution_count": null,
   "id": "58bb5ec0-2e88-4692-9d3e-45ab3ea8e6b5",
   "metadata": {},
   "outputs": [],
   "source": [
    "Q1. Explain Class and Object with respect to Object-Oriented Programming. Give a suitable example."
   ]
  },
  {
   "cell_type": "code",
   "execution_count": 11,
   "id": "8f3c7c14-7ca5-4c08-a8ab-fa2893fd3a5b",
   "metadata": {},
   "outputs": [],
   "source": [
    "class car:\n",
    "    def __init__(self, model,color):\n",
    "        \n",
    "        self.model=model\n",
    "        self.color=color\n",
    "        self.speed=0\n",
    "        \n",
    "        "
   ]
  },
  {
   "cell_type": "code",
   "execution_count": 12,
   "id": "8d3b7e21-0071-4371-9f4b-28a51538f7af",
   "metadata": {},
   "outputs": [],
   "source": [
    "def start_engine(self):\n",
    "    print(\"The{self.color} {self.model} car's engine is started.\")\n",
    "    \n",
    "def drive(self,speed):\n",
    "    self.speed=speed\n",
    "    print(\"the {self.color} {self.model} caris moving at {self.speed} mph.\")"
   ]
  },
  {
   "cell_type": "markdown",
   "id": "fb244bff-f42c-452a-a1da-e031cd06db82",
   "metadata": {},
   "source": [
    "my_car = Car(model= \"Sedan\",color=\"Blue\")\n",
    "your_car = Car(model=\"Suv\",color=\"Red\")\n",
    "\n",
    "my_car.start_engine()\n",
    "your_car.start_engine()\n",
    "\n",
    "my_car.drive(60)\n",
    "your_car.drive(75)"
   ]
  },
  {
   "cell_type": "code",
   "execution_count": null,
   "id": "3e2f7b01-fd5c-4e8c-a8d4-d914a49c809b",
   "metadata": {},
   "outputs": [],
   "source": [
    "Q2. Name the four pillars of OOPs."
   ]
  },
  {
   "cell_type": "markdown",
   "id": "6a80c456-28bd-47f3-85ff-224f11944e40",
   "metadata": {},
   "source": [
    "1 ENCAPSULATION\n",
    "2 ABSTRACTION\n",
    "3 INHERITANCE\n",
    "4 POLYMORPHISM\n",
    "\n",
    "These four pillar collectively provided a framework for organizing and designing code in an object orient progamming.\n"
   ]
  },
  {
   "cell_type": "code",
   "execution_count": null,
   "id": "6bc30e91-4ff7-4b21-81de-db3adb81001a",
   "metadata": {},
   "outputs": [],
   "source": [
    "Q3. Explain why the __init__() function is used. Give a suitable example."
   ]
  },
  {
   "cell_type": "code",
   "execution_count": 17,
   "id": "51824cc6-51ed-4b03-94de-76c05b381cf0",
   "metadata": {},
   "outputs": [
    {
     "name": "stdout",
     "output_type": "stream",
     "text": [
      "Toyota\n",
      "Camry\n",
      "2022\n"
     ]
    }
   ],
   "source": [
    "class Car:\n",
    "    def __init__(self,make,model,year):\n",
    "        self.make=make\n",
    "        self.model=model\n",
    "        self.year=year\n",
    "        \n",
    "my_car=Car(make=\"Toyota\",model=\"Camry\",year=2022)\n",
    "print(my_car.make)\n",
    "print(my_car.model)\n",
    "print(my_car.year)"
   ]
  },
  {
   "cell_type": "code",
   "execution_count": null,
   "id": "a5f02056-458e-4288-bb72-afb28c795014",
   "metadata": {},
   "outputs": [],
   "source": [
    "Q4. Why self is used in OOPs?"
   ]
  },
  {
   "cell_type": "code",
   "execution_count": 18,
   "id": "b0b7c420-52eb-4438-ba8f-2a06d3981bdb",
   "metadata": {},
   "outputs": [
    {
     "name": "stdout",
     "output_type": "stream",
     "text": [
      "5\n"
     ]
    }
   ],
   "source": [
    "class MyClass:\n",
    "    def __init__(self,x):\n",
    "        self.x=x\n",
    "        \n",
    "    def print_value (self) :\n",
    "        print(self.x)\n",
    "obj =m=MyClass(5)\n",
    "obj.print_value()"
   ]
  },
  {
   "cell_type": "code",
   "execution_count": null,
   "id": "657dca1a-4edc-42c7-9128-9c471b7c17a3",
   "metadata": {},
   "outputs": [],
   "source": [
    "Q5. What is inheritance? Give an example for each type of inheritance."
   ]
  },
  {
   "cell_type": "code",
   "execution_count": null,
   "id": "4a35d68d-d0d7-4ce0-976c-772e2e84e4a1",
   "metadata": {},
   "outputs": [],
   "source": [
    "single inheritance\n"
   ]
  },
  {
   "cell_type": "code",
   "execution_count": 19,
   "id": "67477eed-02db-4d2a-bf5d-c86011ace79d",
   "metadata": {},
   "outputs": [],
   "source": [
    "class Animal:\n",
    "    def speak(self):\n",
    "        print(\"Animal speaks\")\n",
    "class Dog(Animal):\n",
    "    def bark(self):\n",
    "        print(\"Dog barks\")\n",
    "        "
   ]
  },
  {
   "cell_type": "markdown",
   "id": "ba33b966-80a3-4f1b-b0ed-6d7af7353234",
   "metadata": {},
   "source": [
    "my_dog=dog()\n",
    "my_dog.speak()\n",
    "my_dog.bark()"
   ]
  },
  {
   "cell_type": "code",
   "execution_count": null,
   "id": "aa532ac9-b503-437d-ba19-db1137a8e041",
   "metadata": {},
   "outputs": [],
   "source": [
    "multiple"
   ]
  },
  {
   "cell_type": "code",
   "execution_count": null,
   "id": "c9912778-44fc-49cb-b51b-f0d97e73b84d",
   "metadata": {},
   "outputs": [],
   "source": [
    "class A:\n",
    "    def method_A(self):\n",
    "        print(\"Method A\")\n",
    "class B:\n",
    "    def method_B(self):\n",
    "        print(\"Method B\")\n",
    "class C(A,B):\n",
    "    def method_C(self):\n",
    "        print(\" Method C\")"
   ]
  },
  {
   "cell_type": "code",
   "execution_count": null,
   "id": "eb954628-b16a-401a-a848-c84f8af9c02d",
   "metadata": {},
   "outputs": [],
   "source": [
    "multilevel"
   ]
  },
  {
   "cell_type": "code",
   "execution_count": null,
   "id": "ccc8311d-a29e-4520-b64c-33c95449caae",
   "metadata": {},
   "outputs": [],
   "source": [
    "class A:\n",
    "    def method_A(self):\n",
    "        print(\"Method A\")\n",
    "class B(A):\n",
    "    def method_B(self):\n",
    "        print(\"Method B\")\n",
    "class C(B):\n",
    "    def method_C(self):\n",
    "        print(\" Method C\")"
   ]
  },
  {
   "cell_type": "code",
   "execution_count": null,
   "id": "7d582363-5fda-463b-a4f6-df9d6ea20acc",
   "metadata": {},
   "outputs": [],
   "source": [
    "Hierarchical"
   ]
  },
  {
   "cell_type": "code",
   "execution_count": null,
   "id": "3d6b0872-c591-4452-99d2-29788318d300",
   "metadata": {},
   "outputs": [],
   "source": []
  },
  {
   "cell_type": "code",
   "execution_count": null,
   "id": "9a078a69-553d-4df8-81b9-ee633ddc8f4d",
   "metadata": {},
   "outputs": [],
   "source": []
  },
  {
   "cell_type": "code",
   "execution_count": null,
   "id": "12fdc60e-6741-474e-91e0-37be6dbbdd98",
   "metadata": {},
   "outputs": [],
   "source": []
  }
 ],
 "metadata": {
  "kernelspec": {
   "display_name": "Python 3 (ipykernel)",
   "language": "python",
   "name": "python3"
  },
  "language_info": {
   "codemirror_mode": {
    "name": "ipython",
    "version": 3
   },
   "file_extension": ".py",
   "mimetype": "text/x-python",
   "name": "python",
   "nbconvert_exporter": "python",
   "pygments_lexer": "ipython3",
   "version": "3.10.8"
  }
 },
 "nbformat": 4,
 "nbformat_minor": 5
}
